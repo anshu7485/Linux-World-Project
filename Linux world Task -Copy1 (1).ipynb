{
 "cells": [
  {
   "cell_type": "markdown",
   "id": "d2d5fbb1",
   "metadata": {},
   "source": [
    "<a id=\"3\"></a>\n",
    "# <p style=\"padding:10px;background-color:red;margin:0;color:black;font-family:newtimeroman;font-size:100%;text-align:center;border-radius: 15px 50px;overflow:hidden;font-weight:500\">Python Project</p>\n",
    "<br>"
   ]
  },
  {
   "cell_type": "markdown",
   "id": "7cfc9809",
   "metadata": {},
   "source": [
    "### 1. Send Email Message Using Python Code\n",
    "\n",
    "### 2. Send SMS Message Using Python Code\n",
    "\n",
    "### 3. Scrape Top 5 Search Results from Google Using Python Code\n",
    "\n",
    "### 4. Find the Current Geo Coordinates and Location Using Python Code\n",
    "\n",
    "### 5. Convert Text to Audio Using Python Code\n",
    "\n",
    "### 6. Control Volume of Your Laptop Using Python\n",
    "\n",
    "### 7. Connect to Your Mobile and Send SMS from Your Mobile Messaging App Using Python\n",
    "\n",
    "### 8. Create a Function to Send Bulk Email Using Python\n"
   ]
  },
  {
   "cell_type": "markdown",
   "id": "f2f01b31",
   "metadata": {},
   "source": [
    " <a id=\"3\"></a>\n",
    "# <p style=\"padding:10px;background-color:red;margin:0;color:black;font-family:newtimeroman;font-size:100%;text-align:center;border-radius: 15px 50px;overflow:hidden;font-weight:500\">Send SMS Msg using python</p>\n",
    "<br>"
   ]
  },
  {
   "cell_type": "code",
   "execution_count": 1,
   "id": "5dfaa5cd",
   "metadata": {},
   "outputs": [],
   "source": [
    "#pip install twilio"
   ]
  },
  {
   "cell_type": "code",
   "execution_count": 7,
   "id": "491b6af8",
   "metadata": {},
   "outputs": [
    {
     "name": "stdout",
     "output_type": "stream",
     "text": [
      "Failed to send message: HTTP 401 error: Unable to create record: Authenticate\n"
     ]
    }
   ],
   "source": [
    "from twilio.rest import Client\n",
    "\n",
    "# Your Twilio account SID and Auth Token\n",
    "account_sid = 'AC8e66ceec1e40b20104914ad5f00a348d'\n",
    "auth_token = '6021f070c92a5d05acc82a7d550fdf65'\n",
    "\n",
    "client = Client(account_sid, auth_token)\n",
    "\n",
    "try:\n",
    "    # Send SMS to yourself\n",
    "    message = client.messages.create(\n",
    "        body=\"hii anshu\",\n",
    "        from_='+16315934383',  # Your Twilio phone number\n",
    "        to='+917485822447'     # Your own phone number\n",
    "    )\n",
    "    print(f\"Message sent with SID: {message.sid}\")\n",
    "except Exception as e:\n",
    "    print(f\"Failed to send message: {e}\")"
   ]
  },
  {
   "cell_type": "markdown",
   "id": "f1f93569",
   "metadata": {},
   "source": [
    "\n",
    " <a id=\"3\"></a>\n",
    "# <p style=\"padding:10px;background-color:yellow;margin:0;color:black;font-family:newtimeroman;font-size:100%;text-align:center;border-radius: 15px 50px;overflow:hidden;font-weight:500\">Send Email using python</p>\n",
    "<br>"
   ]
  },
  {
   "cell_type": "code",
   "execution_count": null,
   "id": "0727f748",
   "metadata": {},
   "outputs": [],
   "source": [
    "import smtplib\n",
    "\n",
    "email = input(\"SENDER EMAIL: \")  \n",
    "receiver_email = input(\"RECEIVER EMAIL: \")\n",
    "subject = input(\"SUBJECT: \")\n",
    "message = input(\"MESSAGE: \")\n",
    "\n",
    "text = f\"Subject: {subject}\\n\\n{message}\"\n",
    "\n",
    "server = smtplib.SMTP(\"smtp.gmail.com\", 587)\n",
    "server.starttls()\n",
    "\n",
    "# Consider using environment variables for the password for security\n",
    "server.login(email, \"vzhh qzjw kdbz qzfg\")  #my server login password\n",
    "\n",
    "server.sendmail(email, receiver_email, text)\n",
    "print(f\"Email has been sent to {receiver_email}\")  \n",
    "\n",
    "server.quit()  \n"
   ]
  },
  {
   "cell_type": "markdown",
   "id": "fef92506",
   "metadata": {},
   "source": [
    " <a id=\"3\"></a>\n",
    "# <p style=\"padding:10px;background-color:skyblue;margin:0;color:black;font-family:newtimeroman;font-size:100%;text-align:center;border-radius: 15px 50px;overflow:hidden;font-weight:500\">Scrap top5 search results from google using the python code</p>\n",
    "<br>"
   ]
  },
  {
   "cell_type": "code",
   "execution_count": null,
   "id": "416f4266",
   "metadata": {},
   "outputs": [],
   "source": [
    "#pip install google-search-results"
   ]
  },
  {
   "cell_type": "code",
   "execution_count": null,
   "id": "17a79883",
   "metadata": {},
   "outputs": [],
   "source": [
    "from serpapi import GoogleSearch\n",
    "\n",
    "# Your API key from SerpApi\n",
    "api_key = \"16d3d75fac27426d539d3887705777a6b4725e3936fd111d979941ecd91368ee\"\n",
    "\n",
    "query = input(\"Enter the search query: \")\n",
    "\n",
    "params = {\n",
    "    \"engine\": \"google\",\n",
    "    \"q\": query,\n",
    "    \"num\": \"5\",\n",
    "    \"api_key\": api_key\n",
    "}\n",
    "\n",
    "search = GoogleSearch(params)\n",
    "results = search.get_dict()\n",
    "\n",
    "# Extract and print the top 5 results\n",
    "top_results = results.get(\"organic_results\", [])\n",
    "\n",
    "for i, result in enumerate(top_results, start=1):\n",
    "    print(f\"Result {i}:\")\n",
    "    print(f\"Title: {result['title']}\")\n",
    "    print(f\"Link: {result['link']}\")\n",
    "    print(f\"Snippet: {result.get('snippet', 'No description available')}\")\n",
    "    print(\"-\" * 40)"
   ]
  },
  {
   "cell_type": "markdown",
   "id": "a9bac749",
   "metadata": {},
   "source": [
    "<a id=\"3\"></a>\n",
    "# <p style=\"padding:10px;background-color:blue;margin:0;color:black;font-family:newtimeroman;font-size:100%;text-align:center;border-radius: 15px 50px;overflow:hidden;font-weight:500\">Find the current geo coordinates and location using the Python code </p>\n",
    "<br>"
   ]
  },
  {
   "cell_type": "code",
   "execution_count": null,
   "id": "8d71c6ff",
   "metadata": {},
   "outputs": [],
   "source": [
    "#pip install geocoder"
   ]
  },
  {
   "cell_type": "code",
   "execution_count": null,
   "id": "2096634d",
   "metadata": {},
   "outputs": [],
   "source": [
    "import geocoder\n",
    "\n",
    "# Get the current location of the IP address\n",
    "g = geocoder.ip('me')\n",
    "\n",
    "# Extract the latitude and longitude\n",
    "lat, lng = g.latlng\n",
    "\n",
    "print(f\"Latitude: {lat}, Longitude: {lng}\")\n",
    "\n",
    "# Get the address or location name\n",
    "location = g.address\n",
    "\n",
    "print(f\"Location: {location}\")"
   ]
  },
  {
   "cell_type": "markdown",
   "id": "12f90286",
   "metadata": {},
   "source": [
    "<a id=\"3\"></a>\n",
    "# <p style=\"padding:10px;background-color:#2a9d8f;margin:0;color:black;font-family:newtimeroman;font-size:100%;text-align:center;border-radius: 15px 50px;overflow:hidden;font-weight:500\">Convert text-to-audio using the python code</p>\n",
    "<br>"
   ]
  },
  {
   "cell_type": "code",
   "execution_count": null,
   "id": "456d6488",
   "metadata": {},
   "outputs": [],
   "source": [
    "#pip install gtts"
   ]
  },
  {
   "cell_type": "code",
   "execution_count": null,
   "id": "b2195d02",
   "metadata": {},
   "outputs": [],
   "source": [
    "from gtts import gTTS\n",
    "import os\n",
    "\n",
    "# The text you want to convert to audio\n",
    "text = \"Hii i am Google assistance.\"\n",
    "\n",
    "# Convert the text to speech using gTTS\n",
    "tts = gTTS(text=text, lang='en')  # 'en' for English language\n",
    "\n",
    "# Save the audio to a file\n",
    "tts.save(\"output.mp3\")\n",
    "\n",
    "# Play the audio file\n",
    "os.system(\"start output.mp3\")  # For Windows\n",
    "# os.system(\"mpg321 output.mp3\")  # For Linux\n"
   ]
  },
  {
   "cell_type": "markdown",
   "id": "4b2687e4",
   "metadata": {},
   "source": [
    "<a id=\"3\"></a>\n",
    "# <p style=\"padding:10px;background-color:red;margin:0;color:black;font-family:newtimeroman;font-size:100%;text-align:center;border-radius: 15px 50px;overflow:hidden;font-weight:500\">Control volume of you laptop using python.\n",
    "</p>\n",
    "<br>"
   ]
  },
  {
   "cell_type": "code",
   "execution_count": null,
   "id": "6bbdb864",
   "metadata": {},
   "outputs": [],
   "source": [
    "#!pip install --upgrade pycaw"
   ]
  },
  {
   "cell_type": "code",
   "execution_count": null,
   "id": "a8bfc6bd",
   "metadata": {},
   "outputs": [],
   "source": [
    "from pycaw.pycaw import AudioUtilities, ISimpleAudioVolume\n",
    "import ctypes\n",
    "\n",
    "CLSCTX_ALL = 23  # 23 is the combined value of CLSCTX_INPROC_SERVER | CLSCTX_LOCAL_SERVER | CLSCTX_REMOTE_SERVER\n",
    "\n",
    "# Get the default audio device\n",
    "devices = AudioUtilities.GetSpeakers()\n",
    "interface = devices.Activate(\n",
    "    ISimpleAudioVolume._iid_, \n",
    "    CLSCTX_ALL,  # Use the correct COM activation context\n",
    "    None\n",
    ")\n",
    "volume = interface.QueryInterface(ISimpleAudioVolume)\n",
    "\n",
    "# Function to set volume\n",
    "def set_volume(level):\n",
    "    # level should be between 0.0 and 1.0\n",
    "    if 0.0 <= level <= 1.0:\n",
    "        volume.SetMasterVolume(level, None)\n",
    "        print(f\"Volume set to {level * 100}%\")\n",
    "    else:\n",
    "        print(\"Volume level must be between 0.0 and 1.0\")\n",
    "\n",
    "# Example usage\n",
    "set_volume(0.5)  # Set volume to 50%"
   ]
  },
  {
   "cell_type": "markdown",
   "id": "324e8d7a",
   "metadata": {},
   "source": [
    "<a id=\"3\"></a>\n",
    "# <p style=\"padding:10px;background-color:orange;margin:0;color:black;font-family:newtimeroman;font-size:100%;text-align:center;border-radius: 15px 50px;overflow:hidden;font-weight:500\">Connect to your mobile and send sms from your mobile messaging app using python.</p>\n",
    "<br>"
   ]
  },
  {
   "cell_type": "code",
   "execution_count": null,
   "id": "7ed01905",
   "metadata": {},
   "outputs": [],
   "source": [
    "from twilio.rest import Client\n",
    "\n",
    "# Your Twilio account SID and Auth Token\n",
    "account_sid = 'AC8e66ceec1e40b20104914ad5f00a348d'\n",
    "auth_token = '6021f070c92a5d05acc82a7d550fdf65'\n",
    "\n",
    "client = Client(account_sid, auth_token)\n",
    "\n",
    "# Send SMS to yourself\n",
    "message = client.messages.create(\n",
    "    body=\"hii anshu\",\n",
    "    from_='+16315934383',  # Your Twilio phone number\n",
    "    to='+917485822447'     # Your own phone number\n",
    ")\n",
    "\n",
    "print(f\"Message sent with SID: {message.sid}\")"
   ]
  },
  {
   "cell_type": "markdown",
   "id": "19df8e50",
   "metadata": {},
   "source": [
    "<a id=\"3\"></a>\n",
    "# <p style=\"padding:10px;background-color:yellow;margin:0;color:black;font-family:newtimeroman;font-size:100%;text-align:center;border-radius: 15px 50px;overflow:hidden;font-weight:500\"> Create a function to Send bulk email using python.</p>\n",
    "<br>"
   ]
  },
  {
   "cell_type": "code",
   "execution_count": null,
   "id": "4a07052f",
   "metadata": {},
   "outputs": [],
   "source": [
    "import smtplib\n",
    "from email.mime.multipart import MIMEMultipart\n",
    "from email.mime.text import MIMEText\n",
    "\n",
    "def send_bulk_emails(smtp_server, port, username, password, subject, body, recipients):\n",
    "    \"\"\"\n",
    "    Sends bulk emails.\n",
    "\n",
    "    Parameters:\n",
    "    smtp_server (str): The SMTP server address.\n",
    "    port (int): The port number for the SMTP server.\n",
    "    username (str): The username for the SMTP server.\n",
    "    password (str): The password for the SMTP server.\n",
    "    subject (str): The subject of the email.\n",
    "    body (str): The body of the email.\n",
    "    recipients (list): A list of recipient email addresses.\n",
    "\n",
    "    Returns:\n",
    "    None\n",
    "    \"\"\"\n",
    "    # Create the email server connection\n",
    "    server = smtplib.SMTP(smtp_server, port)\n",
    "    server.starttls()  \n",
    "    server.login(username, password)\n",
    "\n",
    "    for recipient in recipients:\n",
    "        msg = MIMEMultipart()\n",
    "        msg['From'] = username\n",
    "        msg['To'] = recipient\n",
    "        msg['Subject'] = subject\n",
    "\n",
    "        msg.attach(MIMEText(body, 'plain'))\n",
    "\n",
    "        try:\n",
    "            server.sendmail(username, recipient, msg.as_string())\n",
    "            print(f'Email sent to {recipient}')\n",
    "        except Exception as e:\n",
    "            print(f'Failed to send email to {recipient}. Error: {e}')\n",
    "\n",
    "    server.quit()\n",
    "\n",
    "smtp_server = 'smtp.example.com'\n",
    "port = 587\n",
    "username = 'your-email@example.com'\n",
    "password = 'your-email-password'\n",
    "subject = 'Test Bulk Email'\n",
    "body = 'This is a test bulk email.'\n",
    "recipients = ['recipient1@example.com', 'recipient2@example.com']\n",
    "\n",
    "send_bulk_emails(smtp_server, port, username, password, subject, body, recipients)"
   ]
  }
 ],
 "metadata": {
  "kernelspec": {
   "display_name": "Python 3 (ipykernel)",
   "language": "python",
   "name": "python3"
  },
  "language_info": {
   "codemirror_mode": {
    "name": "ipython",
    "version": 3
   },
   "file_extension": ".py",
   "mimetype": "text/x-python",
   "name": "python",
   "nbconvert_exporter": "python",
   "pygments_lexer": "ipython3",
   "version": "3.11.5"
  }
 },
 "nbformat": 4,
 "nbformat_minor": 5
}
